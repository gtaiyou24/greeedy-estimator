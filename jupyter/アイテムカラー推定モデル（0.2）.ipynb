{
 "cells": [
  {
   "cell_type": "markdown",
   "id": "6067acee",
   "metadata": {},
   "source": [
    "# アイテムカラー推定モデル（0.2）\n",
    "## 概要\n",
    "商品名、アイテム画像入力でマルチモーダルモデルによってアイテムカラーを予測します。\n",
    "\n",
    "## 改善点\n",
    "\n",
    " - 画像レイヤーには事前学習済みのVGG16を転移学習させます\n",
    " - 画像の前処理方法を以下のように変更\n",
    "     - 1アイテムから収集したアイテム画像一覧から平均・分散による標準化を行う"
   ]
  },
  {
   "cell_type": "code",
   "execution_count": 5,
   "id": "c42c7014",
   "metadata": {
    "ExecuteTime": {
     "end_time": "2023-01-08T05:15:50.123019Z",
     "start_time": "2023-01-08T05:15:50.097335Z"
    }
   },
   "outputs": [],
   "source": [
    "import pandas as pd\n",
    "import numpy as np\n",
    "\n",
    "import matplotlib\n",
    "import matplotlib.pyplot as plt\n",
    "import seaborn as sns\n",
    "\n",
    "%matplotlib inline"
   ]
  },
  {
   "cell_type": "code",
   "execution_count": 7,
   "id": "3f11e49d",
   "metadata": {
    "ExecuteTime": {
     "end_time": "2023-01-08T05:16:42.281934Z",
     "start_time": "2023-01-08T05:16:42.269286Z"
    }
   },
   "outputs": [],
   "source": [
    "import sys\n",
    "import os\n",
    "\n",
    "sys.path.append(os.path.join(os.getcwd(), '../app'))"
   ]
  },
  {
   "cell_type": "code",
   "execution_count": 4,
   "id": "49d68cd7",
   "metadata": {
    "ExecuteTime": {
     "end_time": "2023-01-08T05:07:48.745742Z",
     "start_time": "2023-01-08T05:07:48.728975Z"
    }
   },
   "outputs": [],
   "source": [
    "#!pip install -r ../requirements.txt"
   ]
  },
  {
   "cell_type": "code",
   "execution_count": 8,
   "id": "4e19768f",
   "metadata": {
    "ExecuteTime": {
     "end_time": "2023-01-08T05:16:44.414473Z",
     "start_time": "2023-01-08T05:16:44.077079Z"
    }
   },
   "outputs": [],
   "source": [
    "%load_ext autoreload\n",
    "%autoreload 2"
   ]
  },
  {
   "cell_type": "code",
   "execution_count": null,
   "id": "25a85ccb",
   "metadata": {},
   "outputs": [],
   "source": []
  }
 ],
 "metadata": {
  "kernelspec": {
   "display_name": "Python 3 (ipykernel)",
   "language": "python",
   "name": "python3"
  },
  "language_info": {
   "codemirror_mode": {
    "name": "ipython",
    "version": 3
   },
   "file_extension": ".py",
   "mimetype": "text/x-python",
   "name": "python",
   "nbconvert_exporter": "python",
   "pygments_lexer": "ipython3",
   "version": "3.9.13"
  },
  "toc": {
   "nav_menu": {},
   "number_sections": true,
   "sideBar": true,
   "skip_h1_title": false,
   "toc_cell": false,
   "toc_position": {},
   "toc_section_display": "block",
   "toc_window_display": false
  }
 },
 "nbformat": 4,
 "nbformat_minor": 5
}
